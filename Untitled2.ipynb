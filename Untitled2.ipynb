{
 "cells": [
  {
   "cell_type": "code",
   "execution_count": 5,
   "id": "05ca736b",
   "metadata": {},
   "outputs": [],
   "source": [
    "import pandas as pd\n",
    "from sklearn.model_selection import train_test_split\n",
    "from sklearn.svm import SVC\n",
    "from sklearn.metrics import confusion_matrix\n",
    "file = pd.read_csv('dataset1.csv')"
   ]
  },
  {
   "cell_type": "code",
   "execution_count": 7,
   "id": "654280db",
   "metadata": {},
   "outputs": [],
   "source": [
    "X = file.iloc[:, :-1]\n",
    "Y = file['diagnostic']\n",
    "X_train, X_test, Y_train, Y_test = train_test_split(X, Y, test_size=0.2)\n",
    "classifier_svc = SVC(kernel='rbf', random_state=0)\n",
    "classifier_svc.fit(X_train, Y_train)\n",
    "Y_pred = classifier_svc.predict(X_test)\n",
    "cm_svc = confusion_matrix(Y_test, Y_pred)\n",
    "score_svc = classifier_svc.score(X_test, Y_test)"
   ]
  },
  {
   "cell_type": "code",
   "execution_count": 11,
   "id": "f1085422",
   "metadata": {},
   "outputs": [],
   "source": [
    "from sklearn.neighbors import KNeighborsClassifier\n",
    "classifier_knn = KNeighborsClassifier(n_neighbors = 5, metric = 'minkowski', p =2)\n",
    "classifier_knn.fit(X_train, Y_train)\n",
    "Y_pred_knn = classifier_knn.predict(X_test)\n",
    "cm_knn = confusion_matrix(Y_test, Y_pred_knn)\n",
    "score_knn = classifier_knn.score(X_test, Y_test)"
   ]
  },
  {
   "cell_type": "code",
   "execution_count": 14,
   "id": "5e36ca53",
   "metadata": {},
   "outputs": [],
   "source": [
    "from sklearn.tree import DecisionTreeClassifier\n",
    "classifier_forest = DecisionTreeClassifier(criterion = 'entropy', random_state = 0)\n",
    "classifier_forest.fit(X_train, Y_train)\n",
    "Y_pred_forest = classifier_forest.predict(X_test)\n",
    "cm_forest = confusion_matrix(Y_test, Y_pred_forest)\n",
    "score_forest = classifier_forest.score(X_test, Y_test)"
   ]
  },
  {
   "cell_type": "code",
   "execution_count": 15,
   "id": "3e317771",
   "metadata": {},
   "outputs": [
    {
     "data": {
      "text/plain": [
       "array([[5, 0],\n",
       "       [2, 3]])"
      ]
     },
     "execution_count": 15,
     "metadata": {},
     "output_type": "execute_result"
    }
   ],
   "source": [
    "cm_forest"
   ]
  }
 ],
 "metadata": {
  "kernelspec": {
   "display_name": "Python 3 (ipykernel)",
   "language": "python",
   "name": "python3"
  },
  "language_info": {
   "codemirror_mode": {
    "name": "ipython",
    "version": 3
   },
   "file_extension": ".py",
   "mimetype": "text/x-python",
   "name": "python",
   "nbconvert_exporter": "python",
   "pygments_lexer": "ipython3",
   "version": "3.7.12"
  }
 },
 "nbformat": 4,
 "nbformat_minor": 5
}
